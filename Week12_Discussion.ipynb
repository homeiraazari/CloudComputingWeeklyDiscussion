{
  "nbformat": 4,
  "nbformat_minor": 0,
  "metadata": {
    "colab": {
      "name": "Week12_Discussion.ipynb",
      "provenance": [],
      "collapsed_sections": [],
      "authorship_tag": "ABX9TyP8ov/0OVp9y0U3ZpqfgY+b",
      "include_colab_link": true
    },
    "kernelspec": {
      "name": "python3",
      "display_name": "Python 3"
    }
  },
  "cells": [
    {
      "cell_type": "markdown",
      "metadata": {
        "id": "view-in-github",
        "colab_type": "text"
      },
      "source": [
        "<a href=\"https://colab.research.google.com/github/homeiraazari/CloudComputingWeeklyDiscussion/blob/master/Week12_Discussion.ipynb\" target=\"_parent\"><img src=\"https://colab.research.google.com/assets/colab-badge.svg\" alt=\"Open In Colab\"/></a>"
      ]
    },
    {
      "cell_type": "markdown",
      "metadata": {
        "id": "vbX6-TdqsW4k",
        "colab_type": "text"
      },
      "source": [
        "#**What problems does Sagemaker solve?**\n",
        "\n",
        "Amazon Sagemaker allows developers to build and train models using machine learning, or perform predictive analytics in the AWS cloud. A lot of machine learning techniques that could benefit businesses requires some prior experience or hiring an expert to deploy. Sagemaker includes these models built in with other tools to help IT pros better utilize machine learning. It even includes jupyter notebooks built in so that helps developers share live code and build their models. Since it’s hosted in the cloud it includes all the necessary packages as well, so any developer can hop onto any pc they can access AWS and be ready to roll right away. There are even pre built notebooks included where the developer only needs to connect the data and customize parts of the code for their specific application. Data is stored in S3 so you only need to point the notebook over to the data in AWS. Automatic model tuning and data optimization is included to make the process seamless. Sagemaker also includes docker containers that are pre packages with all the necessary code for setting up an ML application. It really solves the problem of needing an ML expert or spending tons of time writing code and setting up notebooks. For a company that just wants to learn some information about their data it’s a great tool that’s immediately ready and accessible. As the business grows or data requirements and analysis grows, Sagemaker can easily scale up to meet demand.\n",
        "\n",
        "#**What are competitive offerings to Sagemaker?**\n",
        "\n",
        "There are several competitive offerings to SageMaker:\n",
        "\n",
        "* Google Cloud AI Platform\n",
        "* TensorFlow\n",
        "* Microsoft Azure Machine Learning Studio\n",
        "* IBM Watson Studio and IBM Watson Machine Learning\n",
        "* SalesForce Einstein\n",
        "* RapidMiner etc.\n",
        "\n",
        "#**Post a screenshot of a lab where you had difficulty with a concept or learned something.**\n",
        "\n",
        "I participated in the lab- Academy Data Analytics Lab: Analyze Data with Amazon Sagemaker, Jupyter Notebooks, and Bokeh. Learned how to create a Notebook in Sagemaker, pull data from a data source and analyze the data with the use of Bokeh.\n",
        "\n",
        "![image](https://user-images.githubusercontent.com/46541929/80767046-f25cdb80-8b14-11ea-84c3-7b80a193e665.png)\n"
      ]
    }
  ]
}