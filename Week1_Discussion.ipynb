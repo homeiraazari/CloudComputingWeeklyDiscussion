{
  "nbformat": 4,
  "nbformat_minor": 0,
  "metadata": {
    "colab": {
      "name": "Week1_Discussion.ipynb",
      "provenance": [],
      "collapsed_sections": [],
      "authorship_tag": "ABX9TyPOWsViuBldlhHbfttcB0jT",
      "include_colab_link": true
    },
    "kernelspec": {
      "name": "python3",
      "display_name": "Python 3"
    }
  },
  "cells": [
    {
      "cell_type": "markdown",
      "metadata": {
        "id": "view-in-github",
        "colab_type": "text"
      },
      "source": [
        "<a href=\"https://colab.research.google.com/github/homeiraazari/CloudComputingWeeklyDiscussion/blob/master/Week1_Discussion.ipynb\" target=\"_parent\"><img src=\"https://colab.research.google.com/assets/colab-badge.svg\" alt=\"Open In Colab\"/></a>"
      ]
    },
    {
      "cell_type": "markdown",
      "metadata": {
        "id": "7X6qTlatqQYy",
        "colab_type": "text"
      },
      "source": [
        "**1. What are the problems solved economically by cloud computing vs traditional infrastructure?**\n",
        "\n",
        "One of the most significant benefits of Cloud Computing is cost saving. Without infrastructure cost or initial investments, Cloud allows users to use resources and networking. So rather than investing money into purchasing physical servers, users can rent the data storage space from cloud computing providers. With Cloud, there is no need for buying hardware like storage, switch, backup systems and more, because the Cloud vendor provides all the infrastructure elements. Additionally, with cloud-based services, users only pay for what is used and enjoy the benefits of a subscription model. Last but not least, using Cloud service lower the employee costs as most companies employ several IT professionals and expenses add up quickly. Cut back on the number of IT employees an organization needs, save a significant amount of money.\n",
        "\n",
        "**2. What skills are you going to learn by the end of this year, why and how?**\n",
        "\n",
        "I am looking forward to learning the fundamentals of cloud computing and attain hands-on experiences in some cloud computing platforms, such as GCP, Azure, and AWS, with the help of labs, projects and the other resources provided in this course. I want to apply this knowledge in real-world practices and build a portfolio using Github to show how I can help any potential company with my knowledge. Furthermore, most job descriptions that I am applying for are asking for Cloud Certificate and I aim to acquire the AWS certificate by the end of this semester.\n",
        "\n",
        "**3. What are the problems solved technically by cloud computing vs traditional infrastructure?**\n",
        "\n",
        "The main technical differences between cloud hosting and traditional web hosting are:\n",
        "\n",
        "Availability: Cloud resources can be activated in a few minutes, and the infrastructure is available remotely from any place and at any moment.\n",
        "Flexibility: Cloud service offers a flexible facility that could be turned off, up or down, as per the circumstances of the user.\n",
        "Automation: Cloud hosting is managed by the storage provider that takes care of hardware, ensures security measures, and keeps it running smoothly.\n",
        "High-scalability: Cloud allows us to avoid dangerous downtimes by offering the highest scalability possible during traffic peaks or fast increase/decrease in computing resources.\n",
        "Ease of Implementation: Users do not have to spend time configuring hardware, maintain systems, and patching software with using cloud services."
      ]
    }
  ]
}