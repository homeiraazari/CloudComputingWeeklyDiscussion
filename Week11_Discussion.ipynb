{
  "nbformat": 4,
  "nbformat_minor": 0,
  "metadata": {
    "colab": {
      "name": "Week11_Discussion.ipynb",
      "provenance": [],
      "collapsed_sections": [],
      "authorship_tag": "ABX9TyOUk+X43MEisS7pYch6FfDa",
      "include_colab_link": true
    },
    "kernelspec": {
      "name": "python3",
      "display_name": "Python 3"
    }
  },
  "cells": [
    {
      "cell_type": "markdown",
      "metadata": {
        "id": "view-in-github",
        "colab_type": "text"
      },
      "source": [
        "<a href=\"https://colab.research.google.com/github/homeiraazari/CloudComputingWeeklyDiscussion/blob/master/Week11_Discussion.ipynb\" target=\"_parent\"><img src=\"https://colab.research.google.com/assets/colab-badge.svg\" alt=\"Open In Colab\"/></a>"
      ]
    },
    {
      "cell_type": "markdown",
      "metadata": {
        "id": "UUe7NkX77HFE",
        "colab_type": "text"
      },
      "source": [
        "#**What problems does Hadoop Solve?**\n",
        "Hadoop is generally an open-source software framework. The mere goal of Hadoop is to store data and run applications on clusters of commodity hardware. Hadoop allows you to process large amounts of data in a quick and efficient manner. The type of data varies tremendously which also makes Hadoop very effective. In addition, Hadoop contains large processing power. It is also unique in its ability to manage virtually limitless tasks  that run simultaneously. Organizations utilize Hadoop for the reasons exemplified above. It helps them with faster processing on large datasets which saves them time and money tremendously. Large users of Hadoop include well-known companies like Amazon, Facebook, Adobe, and LinkedIn.\n",
        "#**What are the key differences between Hadoop and Spark?**\n"
      ]
    },
    {
      "cell_type": "markdown",
      "metadata": {
        "id": "kKkMwSbx7HNe",
        "colab_type": "text"
      },
      "source": [
        ""
      ]
    },
    {
      "cell_type": "markdown",
      "metadata": {
        "id": "vXgSk7C57HQI",
        "colab_type": "text"
      },
      "source": [
        ""
      ]
    },
    {
      "cell_type": "markdown",
      "metadata": {
        "id": "6mVNQ8Hx7HSw",
        "colab_type": "text"
      },
      "source": [
        ""
      ]
    }
  ]
}