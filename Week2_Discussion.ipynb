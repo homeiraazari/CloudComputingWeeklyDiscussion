{
  "nbformat": 4,
  "nbformat_minor": 0,
  "metadata": {
    "colab": {
      "name": "Week2_Discussion.ipynb",
      "provenance": [],
      "authorship_tag": "ABX9TyPojrWBS/6SuDMmjT+989gC",
      "include_colab_link": true
    },
    "kernelspec": {
      "name": "python3",
      "display_name": "Python 3"
    }
  },
  "cells": [
    {
      "cell_type": "markdown",
      "metadata": {
        "id": "view-in-github",
        "colab_type": "text"
      },
      "source": [
        "<a href=\"https://colab.research.google.com/github/homeiraazari/CloudComputingWeeklyDiscussion/blob/master/Week2_Discussion.ipynb\" target=\"_parent\"><img src=\"https://colab.research.google.com/assets/colab-badge.svg\" alt=\"Open In Colab\"/></a>"
      ]
    },
    {
      "cell_type": "markdown",
      "metadata": {
        "id": "MK7CSwVOo874",
        "colab_type": "text"
      },
      "source": [
        ""
      ]
    },
    {
      "cell_type": "markdown",
      "metadata": {
        "id": "ZMo5Lk6psFfs",
        "colab_type": "text"
      },
      "source": [
        "**1. What is IAC and what problem does it solve?**\n",
        "\n",
        "Infrastructure as code (IAC) is about managing the infrastructure such as servers and storage systems in a better way so that there is no difference between one environment (e.g., dev) and the other environment (e.g., test). It is crucial to have the same dev and test environments to properly test the application. If the environments are different, it is difficult to conclude if there is an issue in the application or the environment.\n",
        "\n",
        "IAC helps in error reduction that may happen due to manual steps involved in replicating the environments. It will also be faster because everything is done systematically. It also contributes to the increased efficiency in the overall software development. Financially, it can be cost-effective because fewer resources are required as there is less manual intervention.\n",
        "\n",
        "**2. How should a company decide on what level of cloud abstraction to use for a project: SaaS, PaaS, IaaS, MaaS, Serverless?**\n",
        "\n",
        "When a company decides to consider cloud services to manage its application and infrastructure, it is essential to understand the difference between various categories of cloud services and choose the best fit based on its project in progress.\n",
        "\n",
        "**SaaS: **By using SaaS, the task of managing software and its deployment move to the service provider. Thus, cost of hiring technical staff to install, manage, and upgrade software will be eliminated. Additionally, using SsaS reduce the cost of licensing software.\n",
        "\n",
        "**PaaS:** It is a platform on which software can be developed and deployed. PaaS takes care of most of the work of dealing with servers such as operating systems and server software, as well as the underlying server hardware and network infrastructure. So, users are free to focus on the business side of application deployment of their product or service.\n",
        "\n",
        "**IaaS: **It consists of highly automated and scalable compute resources. IaaS users have direct access to their servers and storage, similar to the traditional servers, but with a much higher order of scalability. Therefore, if the organization requires infrastructure services and not a business application, then it can use Infrastructure as a Service.\n",
        "\n",
        "**MaaS: **It gives organizations an automated way to increase the server capacity and easy network setup for physical servers. So, if an organization needs help with only servers scalability, it can use MaaS.\n",
        "\n",
        "**Serverless:** Serverless architecture is about building and owning an application as an organization but letting the service provider manage the server requirements. The developers can focus on just building world-class applications and let the service provider manage the server requirements."
      ]
    }
  ]
}