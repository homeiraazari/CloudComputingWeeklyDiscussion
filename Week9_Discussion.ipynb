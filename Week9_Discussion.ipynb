{
  "nbformat": 4,
  "nbformat_minor": 0,
  "metadata": {
    "colab": {
      "name": "Week9_Discussion.ipynb",
      "provenance": [],
      "collapsed_sections": [],
      "authorship_tag": "ABX9TyMqAGqaNdKCsfxCB2S8Q7cr",
      "include_colab_link": true
    },
    "kernelspec": {
      "name": "python3",
      "display_name": "Python 3"
    }
  },
  "cells": [
    {
      "cell_type": "markdown",
      "metadata": {
        "id": "view-in-github",
        "colab_type": "text"
      },
      "source": [
        "<a href=\"https://colab.research.google.com/github/homeiraazari/CloudComputingWeeklyDiscussion/blob/master/Week9_Discussion.ipynb\" target=\"_parent\"><img src=\"https://colab.research.google.com/assets/colab-badge.svg\" alt=\"Open In Colab\"/></a>"
      ]
    },
    {
      "cell_type": "markdown",
      "metadata": {
        "id": "UMgPKyzTsDfD",
        "colab_type": "text"
      },
      "source": [
        "**What are the key differences between block and object storage?**\n",
        "\n",
        "Block storage is the oldest and simplest form of data storage. Block storage stores data in fixed-sized chunks called ‘blocks’. A block typically only houses a portion of the data.  Bascially, storage space is broken up into evenly sized blocks of data and no metadata, description or context is applied to each block. This schema is very useful for structured databases, particularly databases cataloging transactions.\n",
        "\n",
        "Object storage on the other hand doesn’t split data into raw blocks. The storage is based on the metadata and the context.\n",
        "\n",
        " Objects tagged by a particular piece of metadata are stored in an object, but that object isn’t a uniform size. The object is the size it needs to be depending on what is stored in the object. This makes object store very powerful for unstructured data.\n",
        "\n",
        "**What are the key problems do a Data Lake solve?**\n",
        "\n",
        "**Post a screenshot of a lab where you had difficulty with a concept or learned something.**"
      ]
    }
  ]
}