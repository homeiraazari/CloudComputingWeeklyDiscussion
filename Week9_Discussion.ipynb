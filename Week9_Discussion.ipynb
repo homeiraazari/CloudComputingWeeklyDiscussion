{
  "nbformat": 4,
  "nbformat_minor": 0,
  "metadata": {
    "colab": {
      "name": "Week9_Discussion.ipynb",
      "provenance": [],
      "authorship_tag": "ABX9TyOCJIERwmZHeyU6ak0HGvc2",
      "include_colab_link": true
    },
    "kernelspec": {
      "name": "python3",
      "display_name": "Python 3"
    }
  },
  "cells": [
    {
      "cell_type": "markdown",
      "metadata": {
        "id": "view-in-github",
        "colab_type": "text"
      },
      "source": [
        "<a href=\"https://colab.research.google.com/github/homeiraazari/CloudComputingWeeklyDiscussion/blob/master/Week9_Discussion.ipynb\" target=\"_parent\"><img src=\"https://colab.research.google.com/assets/colab-badge.svg\" alt=\"Open In Colab\"/></a>"
      ]
    },
    {
      "cell_type": "markdown",
      "metadata": {
        "id": "SNfnnQirSvw-",
        "colab_type": "text"
      },
      "source": [
        "#**What are the tradeoffs with a serverless architecture?**\n",
        "The tradeoff of serverless architecture can be observed when comparing Function as a Service (FaaS), such as AWS Lamda, and Containers as a Service (CaaS), such as Google Cloud Run.  For example, a ML project that requires extensive libraries and resources would best be run with CaaS, rather than FaaS.\n",
        "\n",
        "FaaS\n",
        "\n",
        "best for: short-lived functions, few dependencies, small amounts of data processing\n",
        "\n",
        "Cons: severe limits on runtime and resources, but this equates to lower cost\n",
        "\n",
        "CaaS\n",
        "\n",
        "best for: long-running processes, many dependencies, heavy computing requirements, higher cost\n",
        "\n",
        "Cons: often times based on a Kubernetes cluster which you may or may not manage, higher cost\n",
        "\n",
        "#**How are the advantages to developing with Cloud9?**\n",
        "Cloud9 is an integrated development environment operating in cloud environment, and can be accessed via web browser. Thus, users do not have install programs and can work on projects wherever with internet connection. It also has collaboration function. Multiple users can access code at the same time and chat for discussion. As it is an Amazon product, access to AWS is seamless. AWS functions can be tested, and AWS terminal is readily accessible."
      ]
    }
  ]
}