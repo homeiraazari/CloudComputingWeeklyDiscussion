{
  "nbformat": 4,
  "nbformat_minor": 0,
  "metadata": {
    "colab": {
      "name": "Week3_Discussion.ipynb",
      "provenance": [],
      "collapsed_sections": [],
      "authorship_tag": "ABX9TyMhEZlqXh85z8R93zhK/m1F",
      "include_colab_link": true
    },
    "kernelspec": {
      "name": "python3",
      "display_name": "Python 3"
    }
  },
  "cells": [
    {
      "cell_type": "markdown",
      "metadata": {
        "id": "view-in-github",
        "colab_type": "text"
      },
      "source": [
        "<a href=\"https://colab.research.google.com/github/homeiraazari/CloudComputingWeeklyDiscussion/blob/master/Week3_Discussion.ipynb\" target=\"_parent\"><img src=\"https://colab.research.google.com/assets/colab-badge.svg\" alt=\"Open In Colab\"/></a>"
      ]
    },
    {
      "cell_type": "markdown",
      "metadata": {
        "id": "7hd3mTQzt0rw",
        "colab_type": "text"
      },
      "source": [
        ""
      ]
    },
    {
      "cell_type": "markdown",
      "metadata": {
        "id": "RA82579ft2zW",
        "colab_type": "text"
      },
      "source": [
        "**What are the different layers of network security on AWS and what unique problems do each solve?**\n",
        "\n",
        "The AWS network lets you select the level of security and resiliency appropriate for your workload. This is the list of different layers of network security:\n",
        "\n",
        "**Secure Network Architecture**\n",
        "\n",
        "Network devices, including firewall and other boundary devices, monitor and control communications at the external boundary of the network and at key internal boundaries within the network. These boundary devices employ rule sets, access control lists (ACL), and configurations to enforce the flow of information to specific information system services. ACL policies are approved by Amazon Information Security. These policies are automatically pushed using AWS’s ACL- Manage tool, to help ensure these managed interfaces enforce the most up-to-date ACLs.\n",
        "\n",
        "**Secure Access Points**\n",
        "\n",
        "AWS has strategically placed a limited number of access points to the cloud to allow for more comprehensive monitoring of inbound and outbound communications and network traffic. These customer access points are called API endpoints, and they allow secure HTTP access (HTTPS), which allows you to establish a secure communication session with your storage or compute instances within AWS.\n",
        "\n",
        "**Transmission Protection**\n",
        "\n",
        "You can connect to an AWS access point via HTTP or HTTPS using Secure Sockets Layer (SSL), a cryptographic protocol that is designed to protect against eavesdropping, tampering, and message forgery. For customers who require additional layers of network security, AWS offers the Amazon Virtual Private Cloud (VPC), which provides a private subnet within the AWS cloud, and the ability to use an IPsec Virtual Private Network (VPN) device to provide an encrypted tunnel between the Amazon VPC and your data center.\n",
        "\n",
        "**Amazon Corporate Segregation**\n",
        "\n",
        "Logically, the AWS Production network is segregated from the Amazon Corporate network by means of a complex set of network security/segregation devices. AWS developers and administrators on the corporate network who need to access AWS cloud components in order to maintain them must explicitly request access through the AWS ticketing system. All requests are reviewed and approved by the applicable service owner. Approved AWS personnel then connect to the AWS network through a bastion host that restricts access to network devices and other cloud components, logging all activity for security review.\n",
        "\n",
        "**Fault-Tolerant Design**\n",
        "\n",
        "Amazon’s infrastructure has a high level of availability and provides you with the capability to deploy a resilient IT architecture. AWS has designed its systems to tolerate system or hardware failures with minimal customer impact.\n",
        "\n",
        "**Network Monitoring and Protection**\n",
        "\n",
        "AWS utilizes a wide variety of automated monitoring systems to provide a high level of service performance and availability. AWS monitoring tools are designed to detect unusual or unauthorized activities and conditions at ingress and egress communication points. These tools monitor server and network usage, port scanning activities, application usage, and unauthorized intrusion attempts. The tools have the ability to set custom performance metrics thresholds for unusual activity.\n",
        "\n",
        "\n",
        "**What problem do AWS Spot instances solve and how could you use them in your projects?**\n",
        "\n",
        "There are four ways to pay for Amazon EC2 instances: On-Demand, Reserved Instances, Spot Instances, and Dedicated Hosts. With Spot Instances, you can bid for unused Amazon EC2 capacity. The price is based on supply and demand. Instances can be lost if you’re outbid or interrupted if the Spot price exceeds the maximum.\n",
        "\n",
        "**Spot Instances benefits:**\n",
        "Large scale, dynamic workload\n",
        "Very cost-effective\n",
        "\n",
        "**Spot Instances use cases:**\n",
        "Applications with flexible start and end times\n",
        "Applications only feasible at very low compute prices\n",
        "Users with urgent computing needs for large amounts of additional capacity\n",
        "Spot Instances can be useful to reduce the cost while working on big data. As a student when I run out of resources and need a device to work with analytical projects, I can use Spot Instances."
      ]
    }
  ]
}