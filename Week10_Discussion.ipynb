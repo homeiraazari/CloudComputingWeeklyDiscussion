{
  "nbformat": 4,
  "nbformat_minor": 0,
  "metadata": {
    "colab": {
      "name": "Week10_Discussion.ipynb",
      "provenance": [],
      "collapsed_sections": [],
      "authorship_tag": "ABX9TyNzxlT6AjNWbVCy5X5kygLC",
      "include_colab_link": true
    },
    "kernelspec": {
      "name": "python3",
      "display_name": "Python 3"
    }
  },
  "cells": [
    {
      "cell_type": "markdown",
      "metadata": {
        "id": "view-in-github",
        "colab_type": "text"
      },
      "source": [
        "<a href=\"https://colab.research.google.com/github/homeiraazari/CloudComputingWeeklyDiscussion/blob/master/Week10_Discussion.ipynb\" target=\"_parent\"><img src=\"https://colab.research.google.com/assets/colab-badge.svg\" alt=\"Open In Colab\"/></a>"
      ]
    },
    {
      "cell_type": "markdown",
      "metadata": {
        "id": "L5rCLBTRI2nr",
        "colab_type": "text"
      },
      "source": [
        "# **GCP Application Development - Python**\n",
        "\n",
        "**1.\tApp Dev: Setting up a Development Environment - Python**\n",
        "\n",
        "Objectives:\n",
        "\n",
        "In this lab, I set up a Python development environment on Google Cloud Platform, using Google Compute Engine to create a virtual machine (VM) and installing software libraries for software development.\n",
        "\n",
        "I performed the following tasks:\n",
        "\n",
        "> a.\tCreate a Compute Engine Virtual Machine Instance (dev-instance)\n",
        "\n",
        "![alt text](https://user-images.githubusercontent.com/46541929/77273229-6cce4c00-6c89-11ea-91b3-8ace4be52cd4.png)\n",
        "> b.\tConnect to the instance using SSH.\n",
        "\n",
        "> c.\tInstall software on the VM instance\n",
        "1.\tUpdate the Debian package list:\n",
        "`sudo apt-get update`\n",
        "> 2.\tInstall Git:\n",
        "`sudo apt-get install git`\n",
        "> 3.\tInstall Python:\n",
        "`sudo apt-get install python3-setuptools python3-dev build-essential`\n",
        "> 4.\tInstall pip:\n",
        "`curl https://bootstrap.pypa.io/get-pip.py -o get-pip.py` `sudo python3 get-pip.py`\n",
        "\n",
        "![alt text](https://user-images.githubusercontent.com/46541929/77273243-7b1c6800-6c89-11ea-8820-2daf2b820cd7.png)\n",
        "\n",
        "> d.\tVerify the software installation\n",
        "1.\tVerify the installation by checking the Python and pip version:\n",
        "`python3 --version`\n",
        "`pip3 --version`\n",
        "2.\tClone the class repository:\n",
        "`git clone https://github.com/GoogleCloudPlatform/training-data-analyst`\n",
        "3.\tChange the working directory:\n",
        "`cd ~/training-data-analyst/courses/developingapps/python/devenv/`\n",
        "4.\tRun a simple web server:\n",
        "`sudo python3 server.py`\n",
        "5.\tClick on the External IP address for the dev-instance:\n",
        "A browser opens and displays a Hello GCP dev! message from Python.\n",
        "![alt text](https://user-images.githubusercontent.com/46541929/77273250-7f488580-6c89-11ea-9ade-ae938a7948b6.png)\n",
        "6.\tInstall the Python packages needed to enumerate Google Compute Engine VM instances:\n",
        "`sudo pip3 install -r requirements.txt`\n",
        "7.\tNow list your instance in Cloud Shell:\n",
        "`python3 list-gce-instances.py <PROJECT_ID> --zone=<YOUR_VM_ZONE>`\n",
        "\n",
        "> ![alt text](https://user-images.githubusercontent.com/46541929/77273259-82437600-6c89-11ea-9c90-3c9d04eaa9f9.png)\n",
        "> ![alt text](https://user-images.githubusercontent.com/46541929/77273263-85d6fd00-6c89-11ea-81a0-6495e6342fb6.png)"
      ]
    }
  ]
}