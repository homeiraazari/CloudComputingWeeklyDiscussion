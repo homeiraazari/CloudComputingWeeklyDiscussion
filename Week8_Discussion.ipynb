{
  "nbformat": 4,
  "nbformat_minor": 0,
  "metadata": {
    "colab": {
      "name": "Week9_Discussion.ipynb",
      "provenance": [],
      "collapsed_sections": [],
      "authorship_tag": "ABX9TyOFkYhnIW2/5hMvakyWQCjg",
      "include_colab_link": true
    },
    "kernelspec": {
      "name": "python3",
      "display_name": "Python 3"
    }
  },
  "cells": [
    {
      "cell_type": "markdown",
      "metadata": {
        "id": "view-in-github",
        "colab_type": "text"
      },
      "source": [
        "<a href=\"https://colab.research.google.com/github/homeiraazari/CloudComputingWeeklyDiscussion/blob/master/Week9_Discussion.ipynb\" target=\"_parent\"><img src=\"https://colab.research.google.com/assets/colab-badge.svg\" alt=\"Open In Colab\"/></a>"
      ]
    },
    {
      "cell_type": "markdown",
      "metadata": {
        "id": "UMgPKyzTsDfD",
        "colab_type": "text"
      },
      "source": [
        "**What are the key differences between block and object storage?**\n",
        "\n",
        "Block storage is the oldest and simplest form of data storage. Block storage stores data in fixed-sized chunks called ‘blocks’. A block typically only houses a portion of the data. There is no metadata, description or context, applied to each block. This schema is very useful for structured databases, particularly databases cataloging transactions.\n",
        "\n",
        "Object storage on the other hand doesn’t split data into raw blocks. The object storage are modular units with unique identifiers and metadata. In retrieving the data, the storage system uses metadata and identifiers. This methodology is cost efficient and can scale easily. However, when modification is needed, the system has to write the object completely at once.\n",
        "\n",
        "![alt text](https://user-images.githubusercontent.com/46541929/76780343-41c49380-6783-11ea-8e77-7013546ac928.png)\n",
        "\n",
        "**What are the key problems do a Data Lake solve?**\n",
        "\n",
        "**Post a screenshot of a lab where you had difficulty with a concept or learned something.**"
      ]
    }
  ]
}
