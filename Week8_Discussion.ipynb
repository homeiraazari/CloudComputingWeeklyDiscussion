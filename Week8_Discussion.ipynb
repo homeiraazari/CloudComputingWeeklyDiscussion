{
  "nbformat": 4,
  "nbformat_minor": 0,
  "metadata": {
    "colab": {
      "name": "Week8_Discussion.ipynb",
      "provenance": [],
      "collapsed_sections": [],
      "authorship_tag": "ABX9TyOQsX3Bt5Z9uzZAExlKAdcA",
      "include_colab_link": true
    },
    "kernelspec": {
      "name": "python3",
      "display_name": "Python 3"
    }
  },
  "cells": [
    {
      "cell_type": "markdown",
      "metadata": {
        "id": "view-in-github",
        "colab_type": "text"
      },
      "source": [
        "<a href=\"https://colab.research.google.com/github/homeiraazari/CloudComputingWeeklyDiscussion/blob/master/Week8_Discussion.ipynb\" target=\"_parent\"><img src=\"https://colab.research.google.com/assets/colab-badge.svg\" alt=\"Open In Colab\"/></a>"
      ]
    },
    {
      "cell_type": "markdown",
      "metadata": {
        "id": "Hp0mZq-mTOx7",
        "colab_type": "text"
      },
      "source": [
        "#**What are the key differences between block and object storage?**\n",
        "\n",
        "**Block storage** is the oldest and simplest form of data storage. Block storage stores data in fixed-sized chunks called ‘blocks’. A block typically only houses a portion of the data. There is no metadata, description, or context, applied to each block. This schema is very useful for structured databases, particularly databases cataloging transactions.\n",
        "\n",
        "**Object storage**, on the other hand, does not split data into raw blocks. The object storage is modular units with unique identifiers and metadata. In retrieving the data, the storage system uses metadata and identifiers. Object storage is cost-efficient, and users only pay for what they use. It can scale easily, making it an excellent choice for public cloud storage. However, objects cannot be modified and users have to write the object entirely at once.\n",
        "\n",
        "**100MB File Example**\n",
        "\n",
        "When data is written in the block solution, the 100MB file is broken up into fixed-sized granular blocks as opposed to the entire object being written in the object storage solution.\n",
        "Similarly, when the 100MB object is updated, the entire object can easily be placed into a bucket without breaking the file into blocks with fixed-sized boundaries.\n",
        "\n",
        "![alt text](https://user-images.githubusercontent.com/46541929/76780343-41c49380-6783-11ea-8e77-7013546ac928.png)\n",
        "\n",
        "#**What are the key problems do a Data Lake solve?**\n",
        "\n",
        "A data lake is an enormous, easily accessible, centralized repository that allows us to store,  govern, discover, and share structured and unstructured data at varying scale levels.\n",
        "\n",
        "#**Post a screenshot of a lab where you had difficulty with a concept or learned something.**\n",
        "\n"
      ]
    }
  ]
}