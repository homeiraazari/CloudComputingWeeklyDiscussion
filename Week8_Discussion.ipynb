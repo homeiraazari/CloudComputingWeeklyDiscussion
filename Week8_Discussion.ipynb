{
  "nbformat": 4,
  "nbformat_minor": 0,
  "metadata": {
    "colab": {
      "name": "Week8_Discussion.ipynb",
      "provenance": [],
      "collapsed_sections": [],
      "include_colab_link": true
    },
    "kernelspec": {
      "name": "python3",
      "display_name": "Python 3"
    }
  },
  "cells": [
    {
      "cell_type": "markdown",
      "metadata": {
        "id": "view-in-github",
        "colab_type": "text"
      },
      "source": [
        "<a href=\"https://colab.research.google.com/github/homeiraazari/CloudComputingWeeklyDiscussion/blob/master/Week8_Discussion.ipynb\" target=\"_parent\"><img src=\"https://colab.research.google.com/assets/colab-badge.svg\" alt=\"Open In Colab\"/></a>"
      ]
    },
    {
      "cell_type": "markdown",
      "metadata": {
        "id": "Hp0mZq-mTOx7",
        "colab_type": "text"
      },
      "source": [
        "#**What are the key differences between block and object storage?**\n",
        "\n",
        "**Block storage** is the oldest and simplest form of data storage. Block storage stores data in fixed-sized chunks called ‘blocks’. A block typically only houses a portion of the data. There is no metadata, description, or context, applied to each block. This schema is very useful for structured databases, particularly databases cataloging transactions.\n",
        "\n",
        "**Object storage**, on the other hand, does not split data into raw blocks. The object storage is modular units with unique identifiers and metadata. In retrieving the data, the storage system uses metadata and identifiers. Object storage is cost-efficient, and users only pay for what they use. It can scale easily, making it an excellent choice for public cloud storage. However, objects cannot be modified and users have to write the object entirely at once.\n",
        "\n",
        "**100MB File Example**\n",
        "\n",
        "When data is written in the block solution, the 100MB file is broken up into fixed-sized granular blocks as opposed to the entire object being written in the object storage solution.\n",
        "Similarly, when the 100MB object is updated, the entire object can easily be placed into a bucket without breaking the file into blocks with fixed-sized boundaries.\n",
        "\n",
        "![alt text](https://user-images.githubusercontent.com/46541929/76780343-41c49380-6783-11ea-8e77-7013546ac928.png)\n",
        "\n",
        "#**What are the key problems do a Data Lake solve?**\n",
        "\n",
        "A data lake is an enormous, easily accessible, centralized repository that allows us to store,  govern, discover, and share structured and unstructured data at varying scale levels. It seems to be the natural progression of a data warehouse, in which you can store data as-is, rather than structuring in order to run your analytics platform(s). Firms that utilize data lakes can better utilize new analytics and machine learning techniques, as they can leverage new data sources like log files, click streams, social media and other iot sources. “An Aberdeen survey saw organizations who implemented a Data Lake outperforming similar companies by 9% in organic revenue growth.” \n",
        "\n",
        "Implementing and properly utilizing Data Lakes can lead to added value in the following areas for organizations:\n",
        "\n",
        "* Improving Customer interactions: Makes it easier to merge traditional customer data from CRM platform with additional data from social media, buying/browsing history, leading to improved customer profiling.\n",
        "* Improve R&D innovation choices: Research and development teams can more efficiently test hypotheses, refine them and evaluate their results.\n",
        "* Increase operational efficiencies: It is now much easier to capture all of the unstructured data generated from all of the IoT devices. Additionally, storing that data and then running analytics is much quicker and thus less costly.\n",
        "* Data lakes are very compatible with cloud technologies. Customers preferer data lakes deployed in the cloud due to increased in security,availability, frequent updates, more geographic coverage and the fact that costs are directly linked to actual utilization.\n",
        "\n",
        "#**Post a screenshot of a lab where you had difficulty with a concept or learned something.**\n",
        "\n"
      ]
    }
  ]
}